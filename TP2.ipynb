{
  "nbformat": 4,
  "nbformat_minor": 0,
  "metadata": {
    "colab": {
      "provenance": [],
      "include_colab_link": true
    },
    "kernelspec": {
      "name": "python3",
      "display_name": "Python 3"
    },
    "language_info": {
      "name": "python"
    }
  },
  "cells": [
    {
      "cell_type": "markdown",
      "metadata": {
        "id": "view-in-github",
        "colab_type": "text"
      },
      "source": [
        "<a href=\"https://colab.research.google.com/github/m-o-d-e/nlp/blob/main/TP2.ipynb\" target=\"_parent\"><img src=\"https://colab.research.google.com/assets/colab-badge.svg\" alt=\"Open In Colab\"/></a>"
      ]
    },
    {
      "cell_type": "code",
      "execution_count": 1,
      "metadata": {
        "id": "33huu2KZeCU2"
      },
      "outputs": [],
      "source": [
        "import pandas as pd"
      ]
    },
    {
      "cell_type": "code",
      "source": [
        "!pip install gensim"
      ],
      "metadata": {
        "colab": {
          "base_uri": "https://localhost:8080/"
        },
        "id": "lWNnPVXBgoy1",
        "outputId": "0877fdf9-8038-40d8-916d-afd675492ffe"
      },
      "execution_count": null,
      "outputs": [
        {
          "output_type": "stream",
          "name": "stdout",
          "text": [
            "Requirement already satisfied: gensim in /usr/local/lib/python3.10/dist-packages (4.3.2)\n",
            "Requirement already satisfied: numpy>=1.18.5 in /usr/local/lib/python3.10/dist-packages (from gensim) (1.23.5)\n",
            "Requirement already satisfied: scipy>=1.7.0 in /usr/local/lib/python3.10/dist-packages (from gensim) (1.11.3)\n",
            "Requirement already satisfied: smart-open>=1.8.1 in /usr/local/lib/python3.10/dist-packages (from gensim) (6.4.0)\n"
          ]
        }
      ]
    },
    {
      "cell_type": "code",
      "source": [
        "def read_corpus(filename):\n",
        "    with open(filename,'r',encoding='utf-8') as file:\n",
        "      for line in file:\n",
        "          yield line.strip().split('**')"
      ],
      "metadata": {
        "id": "5nD6X2_oe3Do"
      },
      "execution_count": null,
      "outputs": []
    },
    {
      "cell_type": "code",
      "source": [
        "sentences = list(read_corpus('text'))[0]\n",
        "print(sentences)"
      ],
      "metadata": {
        "colab": {
          "base_uri": "https://localhost:8080/"
        },
        "id": "i4rxtVbvgwlL",
        "outputId": "59173856-b6d1-4cdf-feee-c0e33a19c001"
      },
      "execution_count": null,
      "outputs": [
        {
          "output_type": "stream",
          "name": "stdout",
          "text": [
            "['', 'Morocco and Marrakech: A Tapestry of Tradition and Modernity', \" Morocco, located at the crossroads of Europe and Africa, is a country drenched in history, mystery, and cultural richness. A testament to the ancient civilizations that once flourished here, this North African kingdom boasts a unique blend of Arab, Berber, and European influences. At the heart of Morocco's rich tapestry lies Marrakech, one of its four imperial cities and a vibrant epicenter of tradition and modernity. \", 'Geographical Significance', ' Morocco is bordered by the Atlantic Ocean to the west, the Mediterranean Sea to the north, Algeria to the east and southeast, and the vast Sahara desert to the south. Its strategic location has historically made it a sought-after territory and a melting pot of cultures, religions, and trade routes. ', 'Marrakech: The Red City', ' Marrakech, often referred to as \"The Red City\" due to its distinctive red-hued buildings, stands against the backdrop of the snow-capped Atlas Mountains. Established in the 11th century, it has remained a crucial political, economic, and cultural center of Morocco. ', 'Journey through the Medina', \" Marrakech's old town, the Medina, is a UNESCO World Heritage site and a labyrinthine maze of narrow alleys, bustling souks, and historical landmarks. The Djemaa el-Fna Square lies at the heart of the Medina and comes alive every evening with storytellers, musicians, snake charmers, and food stalls offering tantalizing Moroccan delicacies. \", 'Palaces and Gardens', ' The city is also home to grand palaces like the Bahia Palace, showcasing intricate Islamic architecture, and the Saadian Tombs, remnants of the Saadian dynasty. The Majorelle Garden, restored by the fashion designer Yves Saint Laurent, is a tranquil oasis of cacti, palm trees, and cobalt blue accents. ', 'Modern Marrakech', ' While tradition and history permeate Marrakech, the city is not averse to the modern world. Gueliz, the new town, is brimming with contemporary art galleries, stylish cafes, and chic boutiques, offering a stark contrast to the ancient Medina. ', 'Moroccan Cuisine', ' No journey through Morocco and Marrakech would be complete without indulging in the local cuisine. Tagines, couscous, and pastilla are just a few of the many dishes that combine a plethora of flavors and spices like saffron, cumin, and mint. Paired with Moroccan mint tea, the culinary experience is truly unparalleled. ', 'In Conclusion', ' Morocco, with Marrakech at its heart, offers travelers an unparalleled journey through time. The convergence of history, culture, architecture, and gastronomy makes it an enthralling destination for those seeking both adventure and reflection. As the Moroccan proverb goes, \"He who does not travel does not know the value of men.\" In the case of Morocco and Marrakech, it\\'s not just the value of men, but also the value of time, tradition, and tales that have spanned centuries.']\n"
          ]
        }
      ]
    },
    {
      "cell_type": "code",
      "source": [
        "from gensim.models import Word2Vec\n",
        "from nltk.tokenize import word_tokenize\n",
        "import nltk\n",
        "nltk.download('punkt')\n",
        "\n",
        "\n",
        "# Tokenisation des phrases en mots\n",
        "tokenized_sentences = [word_tokenize(sentence.lower()) for sentence in sentences]\n",
        "\n",
        "# Entraînement du modèle Word2Vec\n",
        "model = Word2Vec(sentences=tokenized_sentences, vector_size=100, window=5, min_count=1, sg=0)\n",
        "\n",
        "\n",
        "vector = model.wv['marrakech']\n",
        "print(\"Vecteur du mot 'marrakech':\", vector)\n"
      ],
      "metadata": {
        "colab": {
          "base_uri": "https://localhost:8080/"
        },
        "id": "8jV_12XThbv5",
        "outputId": "e08ad26a-0954-43fd-d54f-dff8c9219f9b"
      },
      "execution_count": null,
      "outputs": [
        {
          "output_type": "stream",
          "name": "stderr",
          "text": [
            "[nltk_data] Downloading package punkt to /root/nltk_data...\n",
            "[nltk_data]   Unzipping tokenizers/punkt.zip.\n"
          ]
        },
        {
          "output_type": "stream",
          "name": "stdout",
          "text": [
            "Vecteur du mot 'marrakech': [ 7.9730172e-03 -4.2171911e-03 -1.0737858e-03  1.0744252e-03\n",
            " -1.4363868e-06  8.3831634e-04  6.3725458e-03  6.4036349e-04\n",
            " -3.7491715e-03 -1.7726178e-03  5.7351594e-03  1.1533711e-03\n",
            " -1.0031096e-03  9.2509696e-03 -4.9344902e-03 -1.1696669e-03\n",
            "  9.2739416e-03  6.4686886e-03  1.4743468e-03 -9.5529873e-03\n",
            "  1.1379372e-03 -2.1887999e-03  9.6105617e-03  1.0435892e-03\n",
            "  1.6374961e-03  2.3234857e-03 -1.9521136e-03 -5.2411743e-03\n",
            " -6.1033952e-05 -2.1044347e-03  6.6732196e-03  8.9557469e-03\n",
            " -4.2459459e-04  2.7704434e-03 -6.3630585e-03  2.1553179e-03\n",
            " -6.8136859e-03 -8.8503612e-03 -6.0959524e-03 -9.2833759e-03\n",
            "  7.3754773e-03 -6.1781784e-03  8.1189107e-03 -7.1593123e-03\n",
            "  3.7525266e-03  9.6862363e-03 -7.8942617e-03 -1.0143836e-02\n",
            " -4.1956287e-03 -2.6603686e-03  5.2837437e-05 -9.1544604e-03\n",
            " -8.6048562e-03  2.8877126e-03 -8.5478658e-03 -8.8097332e-03\n",
            " -2.2720818e-03 -8.6507788e-03 -7.4022086e-03 -8.2509974e-03\n",
            " -2.5750027e-04 -4.6177548e-03  6.7259134e-03  1.3549582e-03\n",
            " -3.7223590e-03  6.2547876e-03 -5.7372437e-03 -4.2214752e-03\n",
            " -7.6530199e-03 -4.0572654e-03 -2.0972656e-03  6.7230575e-03\n",
            " -2.4420803e-03  4.8215413e-03  7.3911501e-03 -7.1937717e-03\n",
            "  4.6610222e-03  6.1952076e-03 -3.3102187e-03  6.8461322e-03\n",
            "  5.8419029e-03 -6.3489471e-03 -7.1760826e-03  2.9084764e-03\n",
            " -1.8815001e-03 -6.1734961e-03  9.6031409e-03 -4.7122063e-03\n",
            " -6.2944018e-03 -3.0252765e-04 -2.3146821e-03  8.6526008e-04\n",
            " -3.5407494e-03 -3.9448397e-04 -4.8888181e-05  1.3206920e-03\n",
            "  8.5189641e-03 -5.9841163e-03 -1.5311216e-03  5.4072496e-03]\n"
          ]
        }
      ]
    },
    {
      "cell_type": "code",
      "source": [
        "similar_words = model.wv.most_similar('marrakech', topn=5)  # Find 5 most similar words to 'marrakech'\n",
        "\n",
        "\n",
        "similar_words\n"
      ],
      "metadata": {
        "colab": {
          "base_uri": "https://localhost:8080/"
        },
        "id": "b1O-vuQ03QHU",
        "outputId": "3c0848cc-ca76-4e09-9bde-144a21a4eceb"
      },
      "execution_count": null,
      "outputs": [
        {
          "output_type": "execute_result",
          "data": {
            "text/plain": [
              "[('also', 0.3634347915649414),\n",
              " ('has', 0.3057444393634796),\n",
              " ('gardens', 0.28679394721984863),\n",
              " ('cultural', 0.2644657790660858),\n",
              " ('makes', 0.2564462423324585)]"
            ]
          },
          "metadata": {},
          "execution_count": 6
        }
      ]
    }
  ]
}