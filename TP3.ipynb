{
  "nbformat": 4,
  "nbformat_minor": 0,
  "metadata": {
    "colab": {
      "provenance": [],
      "include_colab_link": true
    },
    "kernelspec": {
      "name": "python3",
      "display_name": "Python 3"
    },
    "language_info": {
      "name": "python"
    }
  },
  "cells": [
    {
      "cell_type": "markdown",
      "metadata": {
        "id": "view-in-github",
        "colab_type": "text"
      },
      "source": [
        "<a href=\"https://colab.research.google.com/github/m-o-d-e/nlp/blob/main/TP3.ipynb\" target=\"_parent\"><img src=\"https://colab.research.google.com/assets/colab-badge.svg\" alt=\"Open In Colab\"/></a>"
      ]
    },
    {
      "cell_type": "code",
      "execution_count": null,
      "metadata": {
        "id": "vctq9xCLbXPR",
        "colab": {
          "base_uri": "https://localhost:8080/"
        },
        "outputId": "059410cb-d861-44eb-d352-79ce50ac5fef"
      },
      "outputs": [
        {
          "output_type": "stream",
          "name": "stderr",
          "text": [
            "[nltk_data] Downloading package punkt to /root/nltk_data...\n",
            "[nltk_data]   Unzipping tokenizers/punkt.zip.\n",
            "[nltk_data] Downloading package stopwords to /root/nltk_data...\n",
            "[nltk_data]   Unzipping corpora/stopwords.zip.\n"
          ]
        },
        {
          "output_type": "execute_result",
          "data": {
            "text/plain": [
              "True"
            ]
          },
          "metadata": {},
          "execution_count": 1
        }
      ],
      "source": [
        "import pandas as pd\n",
        "import nltk\n",
        "from nltk.corpus import stopwords\n",
        "from nltk.tokenize import word_tokenize\n",
        "import string\n",
        "from gensim.models import Word2Vec\n",
        "from sklearn.model_selection import train_test_split\n",
        "from sklearn.linear_model import LogisticRegression\n",
        "from sklearn.metrics import classification_report\n",
        "import numpy as np\n",
        "\n",
        "nltk.download('punkt')\n",
        "nltk.download('stopwords')\n"
      ]
    },
    {
      "cell_type": "markdown",
      "source": [
        "# Charger le Dataset"
      ],
      "metadata": {
        "id": "BJxgiKI3tH3g"
      }
    },
    {
      "cell_type": "code",
      "source": [
        "\n",
        "df = pd.read_csv('movie_review.csv')\n",
        "\n",
        "\n",
        "texts = df['text'].str.lower()\n",
        "tags = df['tag']"
      ],
      "metadata": {
        "id": "WTuV2SbMcwgu"
      },
      "execution_count": null,
      "outputs": []
    },
    {
      "cell_type": "markdown",
      "source": [
        "# Pré-traitement"
      ],
      "metadata": {
        "id": "TlBQa5FVt0xB"
      }
    },
    {
      "cell_type": "code",
      "source": [
        "import pandas as pd\n",
        "import string\n",
        "import regex as re\n",
        "import nltk\n",
        "from nltk.corpus import stopwords\n",
        "from nltk.tokenize import word_tokenize\n",
        "from gensim.models import Word2Vec\n",
        "\n",
        "# Download NLTK resources (if not already downloaded)\n",
        "nltk.download('punkt')\n",
        "nltk.download('stopwords')\n",
        "\n",
        "# Function to preprocess a single text\n",
        "def preprocess_text(text):\n",
        "    # Convert to lowercase\n",
        "    text = text.lower()\n",
        "\n",
        "    # Remove punctuation\n",
        "    text = text.translate(str.maketrans(\"\", \"\", string.punctuation))\n",
        "\n",
        "    # Remove stopwords\n",
        "    stop_words = set(stopwords.words('english'))\n",
        "    words = word_tokenize(text)\n",
        "    filtered_words = [word for word in words if word not in stop_words]\n",
        "\n",
        "    return filtered_words\n",
        "\n",
        "# Read your CSV file\n",
        "df = pd.read_csv('movie_review.csv')\n",
        "\n",
        "# Apply the preprocessing function to each text in the 'text' column\n",
        "tokenized_texts = df['text'].apply(preprocess_text)\n",
        "\n",
        "# Display the preprocessed texts\n",
        "print(tokenized_texts.head())\n",
        "\n",
        "\n",
        "\n"
      ],
      "metadata": {
        "colab": {
          "base_uri": "https://localhost:8080/"
        },
        "id": "XXMrtwEhiCY0",
        "outputId": "4fb1fdfb-1c57-446e-d864-2a0e458bc91b"
      },
      "execution_count": null,
      "outputs": [
        {
          "output_type": "stream",
          "name": "stderr",
          "text": [
            "[nltk_data] Downloading package punkt to /root/nltk_data...\n",
            "[nltk_data]   Package punkt is already up-to-date!\n",
            "[nltk_data] Downloading package stopwords to /root/nltk_data...\n",
            "[nltk_data]   Package stopwords is already up-to-date!\n"
          ]
        },
        {
          "output_type": "stream",
          "name": "stdout",
          "text": [
            "0    [films, adapted, comic, books, plenty, success...\n",
            "1    [starters, created, alan, moore, eddie, campbe...\n",
            "2    [say, moore, campbell, thoroughly, researched,...\n",
            "3    [book, graphic, novel, 500, pages, long, inclu...\n",
            "4                 [words, dont, dismiss, film, source]\n",
            "Name: text, dtype: object\n"
          ]
        }
      ]
    },
    {
      "cell_type": "markdown",
      "source": [
        "# Entraînement du Modèle Word2Vec\n"
      ],
      "metadata": {
        "id": "UDUuq7Gbdgl5"
      }
    },
    {
      "cell_type": "code",
      "source": [
        "# Train Word2Vec model\n",
        "word2vec_model = Word2Vec(tokenized_texts, vector_size=100, window=5, min_count=1, workers=4)"
      ],
      "metadata": {
        "id": "UoR8vZYGdoQ4"
      },
      "execution_count": null,
      "outputs": []
    },
    {
      "cell_type": "markdown",
      "source": [
        "# Vectorisation des Textes"
      ],
      "metadata": {
        "id": "bPcT97jaup2y"
      }
    },
    {
      "cell_type": "code",
      "source": [
        "import numpy as np\n",
        "\n",
        "# Function to calculate the average Word2Vec vector for a list of words\n",
        "def average_word2vec(words, model, num_features):\n",
        "    feature_vector = np.zeros((num_features,), dtype=\"float32\")\n",
        "    num_words = 0\n",
        "\n",
        "    for word in words:\n",
        "        if word in model.wv.index_to_key:\n",
        "            num_words += 1\n",
        "            feature_vector = np.add(feature_vector, model.wv[word])\n",
        "\n",
        "    if num_words > 0:\n",
        "        feature_vector = np.divide(feature_vector, num_words)\n",
        "\n",
        "    return feature_vector\n",
        "\n",
        "# Apply the average Word2Vec function to each tokenized review\n",
        "vectorized_reviews = tokenized_texts.apply(lambda x: average_word2vec(x, word2vec_model, 100))\n",
        "\n",
        "# Display the vectorized reviews\n",
        "print(vectorized_reviews.head())\n"
      ],
      "metadata": {
        "colab": {
          "base_uri": "https://localhost:8080/"
        },
        "id": "7h3AbQ8Pi3yC",
        "outputId": "f4e48c8b-a92b-4017-adc0-800065da48d4"
      },
      "execution_count": null,
      "outputs": [
        {
          "output_type": "stream",
          "name": "stdout",
          "text": [
            "0    [-0.32529518, 0.4411588, -0.05114542, 0.106817...\n",
            "1    [-0.2055158, 0.33180833, 0.010003735, 0.263095...\n",
            "2    [-0.24415465, 0.38815334, 0.048941948, 0.14001...\n",
            "3    [-0.24084467, 0.36071184, -0.017482636, 0.1574...\n",
            "4    [-0.35556117, 0.44850984, -0.29013237, 0.12369...\n",
            "Name: text, dtype: object\n"
          ]
        }
      ]
    },
    {
      "cell_type": "markdown",
      "source": [
        "# Division des Données"
      ],
      "metadata": {
        "id": "WSnuafFpvGK0"
      }
    },
    {
      "cell_type": "code",
      "source": [
        "tags = df['tag']\n",
        "# Convert vectorized_reviews to a NumPy array\n",
        "X = np.array(list(vectorized_reviews))\n",
        "\n",
        "# Flatten the vectors into a 2D array\n",
        "X_flat = np.array([vector.flatten() for vector in X])\n",
        "\n",
        "# Split the data into training and testing sets\n",
        "X_train, X_test, y_train, y_test = train_test_split(X_flat, tags, test_size=0.2, random_state=42)"
      ],
      "metadata": {
        "id": "CSbDSoQDjnPX"
      },
      "execution_count": null,
      "outputs": []
    },
    {
      "cell_type": "code",
      "source": [],
      "metadata": {
        "id": "fcFkz4Nc41EG"
      },
      "execution_count": null,
      "outputs": []
    },
    {
      "cell_type": "markdown",
      "source": [
        "# Construction et Évaluation du modéle"
      ],
      "metadata": {
        "id": "DzhxM9XGvthJ"
      }
    },
    {
      "cell_type": "code",
      "source": [
        "from sklearn.model_selection import train_test_split\n",
        "from sklearn.svm import SVC\n",
        "from sklearn.metrics import classification_report\n",
        "\n",
        "\n",
        "\n",
        "# Initialize the SVM classifier\n",
        "svm_clf = SVC()\n",
        "\n",
        "# Train the SVM model\n",
        "svm_clf.fit(X_train, y_train)\n",
        "\n",
        "# Make predictions on the test set\n",
        "svm_predictions = svm_clf.predict(X_test)\n",
        "\n",
        "# Evaluate the SVM model\n",
        "print(\"SVM Classification Report:\")\n",
        "print(classification_report(y_test, svm_predictions))\n"
      ],
      "metadata": {
        "id": "-y0S3YZ6jbeB",
        "colab": {
          "base_uri": "https://localhost:8080/"
        },
        "outputId": "9d613bc1-18dc-405a-aa1d-204f92e99743"
      },
      "execution_count": null,
      "outputs": [
        {
          "output_type": "stream",
          "name": "stdout",
          "text": [
            "SVM Classification Report:\n",
            "              precision    recall  f1-score   support\n",
            "\n",
            "         neg       0.57      0.09      0.16      6366\n",
            "         pos       0.57      0.95      0.71      8005\n",
            "\n",
            "    accuracy                           0.57     14371\n",
            "   macro avg       0.57      0.52      0.43     14371\n",
            "weighted avg       0.57      0.57      0.46     14371\n",
            "\n"
          ]
        }
      ]
    }
  ]
}